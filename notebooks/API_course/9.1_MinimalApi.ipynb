{
 "cells": [
  {
   "cell_type": "markdown",
   "id": "eeb0f716",
   "metadata": {},
   "source": [
    "# API Course 9.1 - Minimal API\n",
    "**Who is this for?** This notebook is designed for beginners with basic C# knowledge who want to build lightweight web APIs using .NET Minimal APIs. No prior ASP.NET Core experience is required.\n",
    "\n",
    "**What you’ll learn:**\n",
    "- Setting up a Minimal API project step-by-step\n",
    "- Registering services and dependencies\n",
    "- Defining HTTP endpoints with inline handlers\n",
    "- Testing your API with tools like curl or Postman\n"
   ]
  },
  {
   "cell_type": "markdown",
   "id": "db1b66e6",
   "metadata": {},
   "source": [
    "## 7) Minimal API Module\n",
    "This module simplifies building HTTP APIs by defining routes and handlers directly in `Program.cs`, without controllers or attributes.\n",
    "\n",
    "**Key changes in 9.1:**\n",
    "- Uses .NET 6+ minimal hosting model (no Startup.cs).  \n",
    "- Inline endpoint definitions with `app.MapGet`/`MapPost`.  \n",
    "- Dependency injection via lambda parameters.  \n",
    "- Built-in support for OpenAPI/Swagger with minimal code.\n"
   ]
  },
  {
   "cell_type": "code",
   "execution_count": null,
   "id": "8209f2b1",
   "metadata": {
    "vscode": {
     "languageId": "csharp"
    }
   },
   "outputs": [],
   "source": [
    "var builder = WebApplication.CreateBuilder(args);\n",
    "builder.Services.AddEndpointsApiExplorer();\n",
    "builder.Services.AddSwaggerGen();\n",
    "builder.Services.AddScoped<IMovieService, MovieService>();\n",
    "\n",
    "var app = builder.Build();\n",
    "if (app.Environment.IsDevelopment())\n",
    "{\n",
    "    app.UseSwagger();\n",
    "    app.UseSwaggerUI();\n",
    "}\n",
    "\n",
    "app.MapGet(\"/api/movies\", async (IMovieService svc) => await svc.GetAllAsync())\n",
    ");\n",
    "\n",
    "app.MapGet(\"/api/movies/{id}\", async (int id, IMovieService svc) =>\n",
    ");\n",
    "\n",
    "app.MapPost(\"/api/movies\", async (CreateMovieRequest req, IMovieService svc) =>\n",
    ", null);\n",
    "\n",
    "app.Run();"
   ]
  },
  {
   "cell_type": "markdown",
   "id": "e317e3d0",
   "metadata": {},
   "source": [
    "### Explanation\n",
    "- `WebApplication.CreateBuilder` bootstraps the application without Startup.cs class.\n",
    "- Services are registered on `builder.Services` (e.g., DI bindings).\n",
    "- `app.MapGet`, `app.MapPost` define endpoints with lambdas.\n",
    "- `Results.Ok`, `Results.NotFound`, `Results.Created` generate HTTP responses.\n",
    "- No controllers or attributes; routing and DI are inferred from lambda parameters."
   ]
  }
 ],
 "metadata": {
  "language_info": {
   "name": "python"
  }
 },
 "nbformat": 4,
 "nbformat_minor": 5
}
