{
 "cells": [
  {
   "cell_type": "markdown",
   "id": "77f7cf1a",
   "metadata": {},
   "source": [
    "# API Course 7.1 - Deep Dive\n",
    "**Who is this for?** Beginners with basic C# and ASP.NET experience looking to add advanced API features.\n",
    "\n",
    "**What you’ll learn:**\n",
    "- Configuring and applying CORS policies\n",
    "- Utilizing response caching to improve performance\n",
    "- Creating and registering custom action filters\n"
   ]
  },
  {
   "cell_type": "markdown",
   "id": "11f98e2c",
   "metadata": {},
   "source": [
    "# API Course 7.1 - Deep Dive\n",
    "This notebook explores advanced modules introduced in version 7.1 of the REST API course, explaining each component in depth."
   ]
  },
  {
   "cell_type": "markdown",
   "id": "b1b6e3a2",
   "metadata": {},
   "source": [
    "## New Module: `5.AdvancedFeatures`\n",
    "Added in 7.1, this module covers advanced topics such as CORS configuration, caching, and custom action filters."
   ]
  },
  {
   "cell_type": "code",
   "execution_count": null,
   "id": "17903eb4",
   "metadata": {
    "vscode": {
     "languageId": "bash"
    }
   },
   "outputs": [],
   "source": [
    "!tree -L 1 /home/mzmzeeee/coding/C#AndDotnet/API_course/7.1/rest-api-course-final-master/5.AdvancedFeatures"
   ]
  },
  {
   "cell_type": "markdown",
   "id": "8012fb0c",
   "metadata": {},
   "source": [
    "### CORS Setup\n",
    "Configure cross-origin requests in `Startup.cs`:\n",
    "```csharp\n",
    "services.AddCors(options => {\n",
    "    options.AddPolicy(\"AllowAll\", builder => builder.AllowAnyOrigin().AllowAnyMethod().AllowAnyHeader());\n",
    "});\n",
    "app.UseCors(\"AllowAll\");\n",
    "```"
   ]
  },
  {
   "cell_type": "markdown",
   "id": "810aef21",
   "metadata": {},
   "source": [
    "## CORS Configuration\n",
    "```csharp\n",
    "// In Startup.ConfigureServices\n",
    "services.AddCors(options =>\n",
    "{\n",
    "    options.AddPolicy(\"AllowSpecificOrigin\", builder =>\n",
    "        builder.WithOrigins(\"https://example.com\")\n",
    "               .AllowAnyHeader()\n",
    "               .AllowAnyMethod());\n",
    "});\n",
    "\n",
    "// In Configure\n",
    "app.UseCors(\"AllowSpecificOrigin\");\n",
    "```\n",
    "\n",
    "## Response Caching\n",
    "```csharp\n",
    "// In ConfigureServices\n",
    "services.AddResponseCaching();\n",
    "\n",
    "// In Configure\n",
    "app.UseResponseCaching();\n",
    "\n",
    "[HttpGet]\n",
    "[ResponseCache(Duration = 60)]\n",
    "public IActionResult GetMovies() => Ok(_service.GetAll());\n",
    "```\n",
    "\n",
    "## Custom Action Filter\n",
    "```csharp\n",
    "public class LogExecutionTimeAttribute : ActionFilterAttribute\n",
    "{\n",
    "    public override void OnActionExecuting(ActionExecutingContext context)\n",
    "    {\n",
    "        context.HttpContext.Items[\"StartTime\"] = DateTime.UtcNow;\n",
    "    }\n",
    "    public override void OnActionExecuted(ActionExecutedContext context)\n",
    "    {\n",
    "        var start = (DateTime)context.HttpContext.Items[\"StartTime\"];\n",
    "        var duration = DateTime.UtcNow - start;\n",
    "        Console.WriteLine($\"Action took {duration.TotalMilliseconds} ms\");\n",
    "    }\n",
    "}\n",
    "```\n",
    "Register per-controller or globally:\n",
    "```csharp\n",
    "[ServiceFilter(typeof(LogExecutionTimeAttribute))]\n",
    "public class MoviesController : ControllerBase { ... }\n",
    "```"
   ]
  }
 ],
 "metadata": {
  "language_info": {
   "name": "python"
  }
 },
 "nbformat": 4,
 "nbformat_minor": 5
}
