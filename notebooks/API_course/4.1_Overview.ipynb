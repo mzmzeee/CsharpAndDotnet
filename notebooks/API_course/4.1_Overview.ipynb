{
 "cells": [
  {
   "cell_type": "markdown",
   "id": "3dd5bf08",
   "metadata": {},
   "source": [
    "# API Course 4.1 - Overview\n",
    "**Who is this for?** Beginners with basic C# skills looking to understand common REST API modules and patterns in ASP.NET Core.\n",
    "\n",
    "**What you’ll learn:**\n",
    "- Overview of core modules in version 4.1 (GettingStarted, BeyondTheBasics)\n",
    "- Dependency Injection and service registration\n",
    "- Swagger/OpenAPI integration\n",
    "- Model validation filters and middleware error handling\n"
   ]
  },
  {
   "cell_type": "markdown",
   "id": "b5e4f349",
   "metadata": {},
   "source": [
    "# API Course 4.1 - Overview\n",
    "This notebook explores the modules in the REST API Course version 4.1 and explains key concepts and code snippets in depth."
   ]
  },
  {
   "cell_type": "markdown",
   "id": "b45f6948",
   "metadata": {},
   "source": [
    "## Modules in Version 4.1\n",
    "The `rest-api-course-final-master` folder contains two modules:\n",
    "1. `1.GettingStarted`\n",
    "2. `2.BeyondTheBasics`"
   ]
  },
  {
   "cell_type": "markdown",
   "id": "ce9855ce",
   "metadata": {},
   "source": [
    "## 1) Getting Started Module\n",
    "This module introduces the solution structure and basic setup."
   ]
  },
  {
   "cell_type": "code",
   "execution_count": null,
   "id": "a053aa06",
   "metadata": {
    "vscode": {
     "languageId": "bash"
    }
   },
   "outputs": [],
   "source": [
    "!tree -L 2 /home/mzmzeeee/coding/C#AndDotnet/API_course/4.1/rest-api-course-final-master/1.GettingStarted"
   ]
  },
  {
   "cell_type": "markdown",
   "id": "0afdfdc7",
   "metadata": {},
   "source": [
    "The projects mirror version 3.1 but may include new package versions or scaffold improvements. Review the `.csproj` files for changes in target frameworks."
   ]
  },
  {
   "cell_type": "markdown",
   "id": "57d8e892",
   "metadata": {},
   "source": [
    "### Example: Updated `Movies.Application` Interface\n",
    "Notice how new methods for paging are added:"
   ]
  },
  {
   "cell_type": "code",
   "execution_count": null,
   "id": "98e743f8",
   "metadata": {
    "vscode": {
     "languageId": "csharp"
    }
   },
   "outputs": [],
   "source": [
    "namespace Movies.Application.Interfaces {\n",
    "    public interface IMovieService {\n",
    "        Task<IEnumerable<GetAllMoviesResponse>> GetAllAsync(int page = 1, int pageSize = 10);\n",
    "        Task<GetMovieResponse> GetByIdAsync(int id);\n",
    "        Task<int> CreateAsync(CreateMovieRequest request);\n",
    "    }\n",
    "}"
   ]
  },
  {
   "cell_type": "markdown",
   "id": "f7b2a2f8",
   "metadata": {},
   "source": [
    "- `page` and `pageSize` parameters enable server-side pagination.\n",
    "- `GetByIdAsync` returns a single DTO.\n",
    "- `CreateAsync` returns the created resource's ID."
   ]
  },
  {
   "cell_type": "markdown",
   "id": "ff0644f9",
   "metadata": {},
   "source": [
    "## 2) Beyond The Basics Module\n",
    "In this module, the course covers filters, swagger integration, and custom middleware."
   ]
  },
  {
   "cell_type": "code",
   "execution_count": null,
   "id": "43710ecc",
   "metadata": {
    "vscode": {
     "languageId": "bash"
    }
   },
   "outputs": [],
   "source": [
    "!tree -L 1 /home/mzmzeeee/coding/C#AndDotnet/API_course/4.1/rest-api-course-final-master/2.BeyondTheBasics"
   ]
  },
  {
   "cell_type": "markdown",
   "id": "3b7d7683",
   "metadata": {},
   "source": [
    "### Key Topics Covered\n",
    "- OpenAPI/Swagger setup (`Swashbuckle.AspNetCore`).\n",
    "- Model validation filters (`IActionFilter`).\n",
    "- Global exception handling middleware."
   ]
  },
  {
   "cell_type": "markdown",
   "id": "4af6be23",
   "metadata": {},
   "source": [
    "#### Example: Registering Swagger in `Startup.cs`\n",
    "```csharp\n",
    "services.AddSwaggerGen(c => {\n",
    "    c.SwaggerDoc(\"v1\", new OpenApiInfo { Title = \"Movies API\", Version = \"v1\" });\n",
    "});\n",
    "app.UseSwagger(); app.UseSwaggerUI(c => { c.SwaggerEndpoint(\"/swagger/v1/swagger.json\", \"Movies API v1\"); });\n",
    "```"
   ]
  },
  {
   "cell_type": "markdown",
   "id": "15a92f7f",
   "metadata": {},
   "source": [
    "### Model Validation Filters\n",
    "The custom `ValidationFilter` implements `IActionFilter` to intercept model binding errors and return a consistent `BadRequest` result when the model state is invalid.\n",
    "\n",
    "```csharp\n",
    "public class ValidationFilter : IActionFilter\n",
    "{\n",
    "    public void OnActionExecuting(ActionExecutingContext context)\n",
    "    {\n",
    "        if (!context.ModelState.IsValid)\n",
    "        {\n",
    "            context.Result = new BadRequestObjectResult(context.ModelState);\n",
    "        }\n",
    "    }\n",
    "    public void OnActionExecuted(ActionExecutedContext context) { }\n",
    "}\n",
    "```\n",
    "\n",
    "**Registration in Startup.cs**\n",
    "```csharp\n",
    "services.AddControllers(options =>\n",
    "{\n",
    "    options.Filters.Add<ValidationFilter>();\n",
    "});\n",
    "```\n",
    "\n",
    "### Custom Exception Handling Middleware\n",
    "A middleware component catches unhandled exceptions and returns a standardized error response.\n",
    "\n",
    "```csharp\n",
    "public class ExceptionMiddleware\n",
    "{\n",
    "    private readonly RequestDelegate _next;\n",
    "    public ExceptionMiddleware(RequestDelegate next) => _next = next;\n",
    "    public async Task InvokeAsync(HttpContext context)\n",
    "    {\n",
    "        try\n",
    "        {\n",
    "            await _next(context);\n",
    "        }\n",
    "        catch (Exception ex)\n",
    "        {\n",
    "            context.Response.StatusCode = 500;\n",
    "            await context.Response.WriteAsJsonAsync(new { error = ex.Message });\n",
    "        }\n",
    "    }\n",
    "}\n",
    "```\n",
    "\n",
    "**Use in `Startup.cs`**\n",
    "```csharp\n",
    "app.UseMiddleware<ExceptionMiddleware>();\n",
    "```"
   ]
  },
  {
   "cell_type": "markdown",
   "id": "e9037e5e",
   "metadata": {},
   "source": [
    "## Dependency Injection Setup\n",
    "In `Program.cs` (or `Startup.cs`), register controllers and application services:\n",
    "```csharp\n",
    "var builder = WebApplication.CreateBuilder(args);\n",
    "builder.Services.AddControllers();\n",
    "builder.Services.AddScoped<IMovieService, MovieService>();\n",
    "var app = builder.Build();\n",
    "app.MapControllers();\n",
    "app.Run();\n",
    "```"
   ]
  }
 ],
 "metadata": {
  "language_info": {
   "name": "python"
  }
 },
 "nbformat": 4,
 "nbformat_minor": 5
}
