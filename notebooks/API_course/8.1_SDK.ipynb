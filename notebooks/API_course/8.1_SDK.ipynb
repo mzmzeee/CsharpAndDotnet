{
 "cells": [
  {
   "cell_type": "markdown",
   "id": "ace2e0b4",
   "metadata": {},
   "source": [
    "# API Course 8.1 - SDK Module\n",
    "**Who is this for?** Beginners who want to generate and consume a strongly-typed SDK client for their ASP.NET Core Web API.\n",
    "\n",
    "**What you’ll learn:**\n",
    "- Configuring NSwag and its JSON config file\n",
    "- Running the NSwag CLI to generate C# client code\n",
    "- Using the generated SDK in a console or web application\n",
    "- Securing SDK calls with JWT authentication\n"
   ]
  },
  {
   "cell_type": "markdown",
   "id": "aaa94b38",
   "metadata": {},
   "source": [
    "# API Course 8.1 - SDK Module\n",
    "This notebook covers the SDK generation module introduced in version 8.1, explaining how the client SDK is generated and used."
   ]
  },
  {
   "cell_type": "markdown",
   "id": "29af2f88",
   "metadata": {},
   "source": [
    "## 6.SDK Module\n",
    "Located under `6.SDK`, this folder contains three projects mirroring the API: `Movies.Contracts`, `Movies.Application`, and `Movies.Api` SDK client. Perhaps a typed client or generated via NSwag."
   ]
  },
  {
   "cell_type": "code",
   "execution_count": null,
   "id": "ee5d28da",
   "metadata": {
    "vscode": {
     "languageId": "bash"
    }
   },
   "outputs": [],
   "source": [
    "!tree -L 1 /home/mzmzeeee/coding/C#AndDotnet/API_course/8.1/rest-api-course-final-master/6.SDK"
   ]
  },
  {
   "cell_type": "markdown",
   "id": "b9978704",
   "metadata": {},
   "source": [
    "### Generating the SDK Client via NSwag\n",
    "Typically, add an NSwag config file `nswag.json` and run the NSwag CLI:"
   ]
  },
  {
   "cell_type": "code",
   "execution_count": null,
   "id": "4127d99d",
   "metadata": {
    "vscode": {
     "languageId": "json"
    }
   },
   "outputs": [],
   "source": [
    "{\n",
    "  \"swaggerGenerator\": {\n",
    "    \"fromSwagger\": {\n",
    "      \"url\": \"http://localhost:5000/swagger/v1/swagger.json\"\n",
    "    }\n",
    "  },\n",
    "  \"codeGenerators\": {\n",
    "    \"csharp\": {\n",
    "      \"clientBaseClass\": \\\n",
    "\n",
    "      // ... other settings omitted for brevity\n",
    "    }\n",
    "  }\n",
    "}"
   ]
  },
  {
   "cell_type": "markdown",
   "id": "ad33ee0a",
   "metadata": {},
   "source": [
    "Running `nswag run nswag.json` generates typed client classes under `Movies.Api.Client` project. These classes wrap HTTP calls with strongly typed methods. "
   ]
  },
  {
   "cell_type": "markdown",
   "id": "2f87f258",
   "metadata": {},
   "source": [
    "## Generating the SDK with NSwag CLI\n",
    "Run the NSwag CLI using the configuration file to produce strongly-typed C# client classes:"
   ]
  }
 ],
 "metadata": {
  "language_info": {
   "name": "python"
  }
 },
 "nbformat": 4,
 "nbformat_minor": 5
}
