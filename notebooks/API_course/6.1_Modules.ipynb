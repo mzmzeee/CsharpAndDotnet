{
 "cells": [
  {
   "cell_type": "markdown",
   "id": "54394829",
   "metadata": {},
   "source": [
    "# API Course 6.1 - Modules and Concepts\n",
    "**Who is this for?** Beginners and intermediate learners looking to expand API functionality with new features.\n",
    "\n",
    "**What you’ll learn:**\n",
    "- Core modules in version 6.1 (GettingStarted, BeyondTheBasics, Auth, Ratings)\n",
    "- Building Rating endpoints for CRUD operations\n",
    "- Handling edge cases and invalid input\n"
   ]
  },
  {
   "cell_type": "markdown",
   "id": "f484612a",
   "metadata": {},
   "source": [
    "# API Course 6.1 - Modules and Concepts\n",
    "This notebook covers modules introduced in version 6.1 of the REST API Course and explains core code snippets."
   ]
  },
  {
   "cell_type": "markdown",
   "id": "95ff345b",
   "metadata": {},
   "source": [
    "## Modules in Version 6.1\n",
    "The solution contains:\n",
    "1. `1.GettingStarted`\n",
    "2. `2.BeyondTheBasics`\n",
    "3. `3.Auth`\n",
    "4. `4.Ratings` (New in 6.1)"
   ]
  },
  {
   "cell_type": "code",
   "execution_count": null,
   "id": "d9ad054b",
   "metadata": {
    "vscode": {
     "languageId": "bash"
    }
   },
   "outputs": [],
   "source": [
    "!tree -L 1 /home/mzmzeeee/coding/C#AndDotnet/API_course/6.1/rest-api-course-final-master"
   ]
  },
  {
   "cell_type": "markdown",
   "id": "5430297c",
   "metadata": {},
   "source": [
    "### Ratings Module\n",
    "Introduces CRUD endpoints for user ratings on movies."
   ]
  },
  {
   "cell_type": "code",
   "execution_count": null,
   "id": "82d43d83",
   "metadata": {
    "vscode": {
     "languageId": "csharp"
    }
   },
   "outputs": [],
   "source": [
    "namespace Movies.Application.Interfaces {\n",
    "    public interface IRatingService {\n",
    "        Task<IEnumerable<GetRatingResponse>> GetAllForMovieAsync(int movieId);\n",
    "        Task<double> GetAverageRatingAsync(int movieId);\n",
    "        Task AddRatingAsync(AddRatingRequest request);\n",
    "    }\n",
    "}"
   ]
  },
  {
   "cell_type": "markdown",
   "id": "1bfc387a",
   "metadata": {},
   "source": [
    "The `IRatingService` interface defines methods to fetch all ratings, compute average rating, and add new ratings. The implementation uses a simple in-memory or database-backed repository. "
   ]
  },
  {
   "cell_type": "markdown",
   "id": "dddbb5e8",
   "metadata": {},
   "source": [
    "## RatingsController Sample\n",
    "```csharp\n",
    "[ApiController]\n",
    "[Route(\"api/[controller]\")]\n",
    "public class RatingsController : ControllerBase\n",
    "{\n",
    "    private readonly IRatingService _ratingService;\n",
    "    public RatingsController(IRatingService ratingService) => _ratingService = ratingService;\n",
    "\n",
    "    [HttpGet(\"movie/{movieId}\")]\n",
    "    public async Task<IActionResult> GetForMovie(int movieId)\n",
    "    {\n",
    "        var ratings = await _ratingService.GetAllForMovieAsync(movieId);\n",
    "        return Ok(ratings);\n",
    "    }\n",
    "\n",
    "    [HttpPost]\n",
    "    public async Task<IActionResult> AddRating(AddRatingRequest request)\n",
    "    {\n",
    "        await _ratingService.AddRatingAsync(request);\n",
    "        return NoContent();\n",
    "    }\n",
    "}\n",
    "```\n",
    "\n",
    "## Testing Ratings Endpoints with curl\n",
    "```bash\n",
    "\n",
    "# Get ratings for movie 1\n",
    "curl http://localhost:5000/api/ratings/movie/1\n",
    "\n",
    "# Add a rating\n",
    "curl -X POST http://localhost:5000/api/ratings \\\n",
    "  -H \"Content-Type: application/json\" \\\n",
    "  -d '{ \"movieId\":1, \"score\":4 }'\n",
    "\n",
    "```"
   ]
  }
 ],
 "metadata": {
  "language_info": {
   "name": "python"
  }
 },
 "nbformat": 4,
 "nbformat_minor": 5
}
