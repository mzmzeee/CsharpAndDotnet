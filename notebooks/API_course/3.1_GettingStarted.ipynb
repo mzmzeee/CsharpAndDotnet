{
 "cells": [
  {
   "cell_type": "markdown",
   "id": "ee1e6966",
   "metadata": {},
   "source": [
    "# API Course 3.1 - Getting Started\n",
    "**Who is this for?** Beginners with basic C# knowledge who want to build their first ASP.NET Core Web API.\n",
    "\n",
    "**What you’ll learn:**\n",
    "- Solution and project structure overview\n",
    "- Creating request/response DTOs\n",
    "- Implementing services and controllers\n",
    "- Running and testing endpoints with curl or Postman\n"
   ]
  },
  {
   "cell_type": "markdown",
   "id": "c79bd967",
   "metadata": {},
   "source": [
    "# API Course 3.1 - Getting Started\n",
    "This notebook walks through the `GettingStarted` module of the REST API Course (version 3.1). We will explore the solution structure and dive into each project to understand its purpose and key code snippets."
   ]
  },
  {
   "cell_type": "markdown",
   "id": "e3b3ecd9",
   "metadata": {},
   "source": [
    "## Solution Structure\n",
    "Let's inspect the folder layout for the `GettingStarted` subdirectory."
   ]
  },
  {
   "cell_type": "code",
   "execution_count": null,
   "id": "03637aa9",
   "metadata": {
    "vscode": {
     "languageId": "bash"
    }
   },
   "outputs": [],
   "source": [
    "!tree -L 2 /home/mzmzeeee/coding/C#AndDotnet/API_course/3.1/rest-api-course-final-master/1.GettingStarted"
   ]
  },
  {
   "cell_type": "markdown",
   "id": "f59a46ab",
   "metadata": {},
   "source": [
    "We have three projects:\n",
    "- `Movies.Contracts`: Defines request/response DTOs and shared interfaces.\n",
    "- `Movies.Application`: Contains business logic and service implementations.\n",
    "- `Movies.Api`: Hosts the ASP.NET Core Web API endpoints."
   ]
  },
  {
   "cell_type": "markdown",
   "id": "cc0bd362",
   "metadata": {},
   "source": [
    "### 1) Movies.Contracts Project\n",
    "Open `Movies.Contracts.csproj` to see package references and output type:"
   ]
  },
  {
   "cell_type": "code",
   "execution_count": null,
   "id": "7d6ca8bd",
   "metadata": {
    "vscode": {
     "languageId": "xml"
    }
   },
   "outputs": [],
   "source": [
    "<Project Sdk=\"Microsoft.NET.Sdk\">\n",
    "  <PropertyGroup>\n",
    "    <TargetFramework>netstandard2.0</TargetFramework>\n",
    "  </PropertyGroup>\n",
    "</Project>"
   ]
  },
  {
   "cell_type": "markdown",
   "id": "fa533413",
   "metadata": {},
   "source": [
    "The `netstandard2.0` target makes this library compatible with both .NET Framework and .NET Core. It hosts DTOs under `Requests` and `Responses` directories."
   ]
  },
  {
   "cell_type": "markdown",
   "id": "174297e5",
   "metadata": {},
   "source": [
    "#### Example DTO: `GetAllMoviesResponse`"
   ]
  },
  {
   "cell_type": "code",
   "execution_count": null,
   "id": "4859e13d",
   "metadata": {
    "vscode": {
     "languageId": "csharp"
    }
   },
   "outputs": [],
   "source": [
    "namespace Movies.Contracts.Responses {\n",
    "    public class GetAllMoviesResponse {\n",
    "        public int Id { get; set; }\n",
    "        public string Title { get; set; }\n",
    "        public string Genre { get; set; }\n",
    "    }\n",
    "}"
   ]
  },
  {
   "cell_type": "markdown",
   "id": "c8e6f821",
   "metadata": {},
   "source": [
    "This plain DTO will be serialized by ASP.NET Core automatically. Properties must be public with getters/setters for binding."
   ]
  },
  {
   "cell_type": "markdown",
   "id": "e7512501",
   "metadata": {},
   "source": [
    "### 2) Movies.Application Project\n",
    "Contains service interfaces and implementations. Let's view the `IMovieService` interface definition."
   ]
  },
  {
   "cell_type": "code",
   "execution_count": null,
   "id": "8abfd6f6",
   "metadata": {
    "vscode": {
     "languageId": "csharp"
    }
   },
   "outputs": [],
   "source": [
    "namespace Movies.Application.Interfaces {\n",
    "    public interface IMovieService {\n",
    "        Task<IEnumerable<GetAllMoviesResponse>> GetAllAsync();\n",
    "        // ... other methods omitted for brevity\n",
    "    }\n",
    "}"
   ]
  },
  {
   "cell_type": "markdown",
   "id": "81552edc",
   "metadata": {},
   "source": [
    "The `IMovieService` defines async methods to fetch movie data. Implementations live in the same project under `Services`."
   ]
  },
  {
   "cell_type": "markdown",
   "id": "3a7f3cbb",
   "metadata": {},
   "source": [
    "### 3) Movies.Api Project\n",
    "Hosts controllers. Let's examine the `MoviesController`."
   ]
  },
  {
   "cell_type": "code",
   "execution_count": null,
   "id": "e62daec7",
   "metadata": {
    "vscode": {
     "languageId": "csharp"
    }
   },
   "outputs": [],
   "source": [
    "[ApiController]\n",
    "[Route(\"api/[controller]\")]\n",
    "public class MoviesController : ControllerBase {\n",
    "    private readonly IMovieService _service;\n",
    "    public MoviesController(IMovieService service) { _service = service; }\n",
    "\n",
    "    [HttpGet]\n",
    "    public async Task<IActionResult> GetAll() {\n",
    "        var movies = await _service.GetAllAsync();\n",
    "        return Ok(movies);\n",
    "    }\n",
    "}"
   ]
  },
  {
   "cell_type": "markdown",
   "id": "1139e7e3",
   "metadata": {},
   "source": [
    "When a GET request is made to `/api/movies`, ASP.NET Core routes to `GetAll`, invokes the service, and returns a JSON array of `GetAllMoviesResponse`."
   ]
  },
  {
   "cell_type": "markdown",
   "id": "72d4f5fd",
   "metadata": {},
   "source": [
    "## Dependency Injection Setup\n",
    "Register services in `Program.cs` or `Startup.cs` to enable the `IMovieService` injection in the API project:\n",
    "\n",
    "```csharp\n",
    "// In Program.cs or Startup.ConfigureServices\n",
    "builder.Services.AddScoped<IMovieService, MovieService>();\n",
    "builder.Services.AddControllers();\n",
    "```"
   ]
  },
  {
   "cell_type": "markdown",
   "id": "d0f45f5a",
   "metadata": {},
   "source": [
    "## Testing with curl\n",
    "Verify endpoints after running the API:\n",
    "\n",
    "```bash\n",
    "# List all movies\n",
    "curl http://localhost:5000/api/movies\n",
    "\n",
    "# Get single movie by ID\n",
    "curl http://localhost:5000/api/movies/1\n",
    "```"
   ]
  }
 ],
 "metadata": {
  "language_info": {
   "name": "python"
  }
 },
 "nbformat": 4,
 "nbformat_minor": 5
}
