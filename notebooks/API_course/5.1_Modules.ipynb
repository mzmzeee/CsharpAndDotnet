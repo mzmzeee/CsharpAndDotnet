{
 "cells": [
  {
   "cell_type": "markdown",
   "id": "4f0d15d5",
   "metadata": {},
   "source": [
    "# API Course 5.1 - Modules Overview\n",
    "**Who is this for?** Beginners familiar with basic C# and REST concepts ready to secure APIs with authentication.\n",
    "\n",
    "**What you’ll learn:**\n",
    "- Core modules in version 5.1 (GettingStarted, BeyondTheBasics, Auth)\n",
    "- Implementing AuthController for register/login\n",
    "- JWT token generation and validation\n",
    "- Securing endpoints with JWT bearer authentication\n"
   ]
  },
  {
   "cell_type": "markdown",
   "id": "537d946b",
   "metadata": {},
   "source": [
    "# API Course 5.1 - Modules Overview\n",
    "This notebook delves into the modules introduced in version 5.1 of the REST API Course and explains code snippets in depth."
   ]
  },
  {
   "cell_type": "markdown",
   "id": "7b262d1d",
   "metadata": {},
   "source": [
    "## Modules in Version 5.1\n",
    "The `rest-api-course-final-master` folder contains three modules:\n",
    "1. `1.GettingStarted`\n",
    "2. `2.BeyondTheBasics`\n",
    "3. `3.Auth` (New in 5.1)"
   ]
  },
  {
   "cell_type": "code",
   "execution_count": null,
   "id": "c11b9ff4",
   "metadata": {
    "vscode": {
     "languageId": "bash"
    }
   },
   "outputs": [],
   "source": [
    "!tree -L 1 /home/mzmzeeee/coding/C#AndDotnet/API_course/5.1/rest-api-course-final-master"
   ]
  },
  {
   "cell_type": "markdown",
   "id": "41bbeb36",
   "metadata": {},
   "source": [
    "### Authentication Module\n",
    "The `3.Auth` module adds JSON Web Token (JWT) support to secure endpoints."
   ]
  },
  {
   "cell_type": "code",
   "execution_count": null,
   "id": "4c0a2f85",
   "metadata": {
    "vscode": {
     "languageId": "csharp"
    }
   },
   "outputs": [],
   "source": [
    "public class JwtTokenService : ITokenService {\n",
    "    private readonly IConfiguration _config;\n",
    "    public JwtTokenService(IConfiguration config) { _config = config; }\n",
    "    public string GenerateToken(UserResponse user) {\n",
    "        var key = new SymmetricSecurityKey(Encoding.UTF8.GetBytes(_config[\"Jwt:Key\"]));\n",
    "        var creds = new SigningCredentials(key, SecurityAlgorithms.HmacSha256);"
   ]
  },
  {
   "cell_type": "markdown",
   "id": "6cf5ac72",
   "metadata": {},
   "source": [
    "- The `IConfiguration` is injected to read JWT settings.\n",
    "- `SymmetricSecurityKey` uses a secret key from configuration.\n",
    "- `JwtSecurityToken` includes issuer, claims, expiration, and signing credentials."
   ]
  },
  {
   "cell_type": "markdown",
   "id": "9b31d546",
   "metadata": {},
   "source": [
    "## Dependency Injection Setup\n",
    "Register user and token services in the API project:\n",
    "```csharp\n",
    "// In Program.cs or Startup.ConfigureServices\n",
    "builder.Services.AddScoped<IUserService, UserService>();\n",
    "builder.Services.AddScoped<ITokenService, JwtTokenService>();\n",
    "builder.Services.AddControllers();\n",
    "```\n",
    "\n",
    "## Testing Authentication Endpoints with curl\n",
    "```bash\n",
    "# Register a new user\n",
    "curl -X POST http://localhost:5000/api/auth/register \\\n",
    "  -H \"Content-Type: application/json\" \\\n",
    "  -d '{ \"username\": \"test\", \"password\": \"P@ssw0rd\"}'\n",
    "\n",
    "# Login and retrieve JWT\n",
    "token=$(curl -s -X POST http://localhost:5000/api/auth/login \\\n",
    "  -H \"Content-Type: application/json\" \\\n",
    "  -d '{ \"username\": \"test\", \"password\": \"P@ssw0rd\"}' | jq -r .token)\n",
    "\n",
    "# Use JWT to call a protected endpoint\n",
    "curl -H \"Authorization: Bearer $token\" http://localhost:5000/api/movies/1\n",
    "```"
   ]
  }
 ],
 "metadata": {
  "language_info": {
   "name": "python"
  }
 },
 "nbformat": 4,
 "nbformat_minor": 5
}
